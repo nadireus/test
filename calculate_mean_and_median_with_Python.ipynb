{
  "nbformat": 4,
  "nbformat_minor": 0,
  "metadata": {
    "colab": {
      "name": "calculate mean and median with Python.ipynb",
      "provenance": [],
      "collapsed_sections": [],
      "authorship_tag": "ABX9TyOgZ3zyQekm16n26P+rXtrq",
      "include_colab_link": true
    },
    "kernelspec": {
      "name": "python3",
      "display_name": "Python 3"
    },
    "language_info": {
      "name": "python"
    }
  },
  "cells": [
    {
      "cell_type": "markdown",
      "metadata": {
        "id": "view-in-github",
        "colab_type": "text"
      },
      "source": [
        "<a href=\"https://colab.research.google.com/github/nadireus/test/blob/main/calculate_mean_and_median_with_Python.ipynb\" target=\"_parent\"><img src=\"https://colab.research.google.com/assets/colab-badge.svg\" alt=\"Open In Colab\"/></a>"
      ]
    },
    {
      "cell_type": "code",
      "metadata": {
        "id": "UYSpSfRO0tDm"
      },
      "source": [
        "import numpy as np \n"
      ],
      "execution_count": null,
      "outputs": []
    },
    {
      "cell_type": "code",
      "metadata": {
        "id": "2RRh049P06n_"
      },
      "source": [
        "from scipy import stats"
      ],
      "execution_count": null,
      "outputs": []
    },
    {
      "cell_type": "markdown",
      "source": [
        "This problem was asked by Google.\n",
        "Given an array of numbers and an index i, return the index of the nearest larger number of the number at index i, where distance is measured in array indices.\n",
        "For example, given [4, 1, 3, 5, 6] and index 0, you should return 3.\n",
        "If two distances to larger numbers are the equal, then return any one of them.\n",
        "If the array at i doesn't have a nearest larger integer, then return null."
      ],
      "metadata": {
        "id": "AhEmmTNs7cVh"
      }
    },
    {
      "cell_type": "code",
      "source": [
        "myArr=[4, 1, 3, 5, 6]\n",
        "myNumber=4\n",
        "myArr[myArr > myNumber].min() "
      ],
      "metadata": {
        "colab": {
          "base_uri": "https://localhost:8080/",
          "height": 201
        },
        "id": "JzZGR5o37cEU",
        "outputId": "2cfbabef-e1c9-4c1c-98bc-9acb1f6594e3"
      },
      "execution_count": null,
      "outputs": [
        {
          "output_type": "error",
          "ename": "TypeError",
          "evalue": "ignored",
          "traceback": [
            "\u001b[0;31m---------------------------------------------------------------------------\u001b[0m",
            "\u001b[0;31mTypeError\u001b[0m                                 Traceback (most recent call last)",
            "\u001b[0;32m<ipython-input-3-02de00214db9>\u001b[0m in \u001b[0;36m<module>\u001b[0;34m()\u001b[0m\n\u001b[1;32m      1\u001b[0m \u001b[0mmyArr\u001b[0m\u001b[0;34m=\u001b[0m\u001b[0;34m[\u001b[0m\u001b[0;36m4\u001b[0m\u001b[0;34m,\u001b[0m \u001b[0;36m1\u001b[0m\u001b[0;34m,\u001b[0m \u001b[0;36m3\u001b[0m\u001b[0;34m,\u001b[0m \u001b[0;36m5\u001b[0m\u001b[0;34m,\u001b[0m \u001b[0;36m6\u001b[0m\u001b[0;34m]\u001b[0m\u001b[0;34m\u001b[0m\u001b[0;34m\u001b[0m\u001b[0m\n\u001b[1;32m      2\u001b[0m \u001b[0mmyNumber\u001b[0m\u001b[0;34m=\u001b[0m\u001b[0;36m4\u001b[0m\u001b[0;34m\u001b[0m\u001b[0;34m\u001b[0m\u001b[0m\n\u001b[0;32m----> 3\u001b[0;31m \u001b[0mmyArr\u001b[0m\u001b[0;34m[\u001b[0m\u001b[0mmyArr\u001b[0m \u001b[0;34m>\u001b[0m \u001b[0mmyNumber\u001b[0m\u001b[0;34m]\u001b[0m\u001b[0;34m.\u001b[0m\u001b[0mmin\u001b[0m\u001b[0;34m(\u001b[0m\u001b[0;34m)\u001b[0m\u001b[0;34m\u001b[0m\u001b[0;34m\u001b[0m\u001b[0m\n\u001b[0m",
            "\u001b[0;31mTypeError\u001b[0m: '>' not supported between instances of 'list' and 'int'"
          ]
        }
      ]
    },
    {
      "cell_type": "markdown",
      "source": [
        "select closest number in array \n"
      ],
      "metadata": {
        "id": "s2PRkYUz87Lq"
      }
    },
    {
      "cell_type": "code",
      "source": [
        "import numpy as np\n",
        "def find_nearest(array, value):\n",
        "    array = np.asarray(array)\n",
        "    idx = (np.abs(array - value)).argmin()\n",
        "    return array[idx]\n",
        "\n",
        "array = np.random.random(10)\n",
        "print(array)\n",
        "# [ 0.21069679  0.61290182  0.63425412  0.84635244  0.91599191  0.00213826\n",
        "#   0.17104965  0.56874386  0.57319379  0.28719469]\n",
        "\n",
        "value = 0.5\n",
        "\n",
        "print(find_nearest(array, value))"
      ],
      "metadata": {
        "colab": {
          "base_uri": "https://localhost:8080/"
        },
        "id": "3c32qAXI7cB7",
        "outputId": "79fd7ec2-7124-4c73-f4da-b5ab942d9f34"
      },
      "execution_count": null,
      "outputs": [
        {
          "output_type": "stream",
          "name": "stdout",
          "text": [
            "[0.07395764 0.2397153  0.66003119 0.23642095 0.26144482 0.4800977\n",
            " 0.45203477 0.69687382 0.38147249 0.52792191]\n",
            "0.4800976966596878\n"
          ]
        }
      ]
    },
    {
      "cell_type": "code",
      "source": [
        "import numpy as np\n",
        "def find_nearest(array1, index):\n",
        "    array1 = np.asarray(array1)\n",
        "    for array1[index] in array1:\n",
        "        if index==np.argmax(array1):\n",
        "            return 0\n",
        "        else:\n",
        "           if array1.any()>array1[index]:\n",
        "             idx = (np.abs(array1 - array1[index])).argmin()\n",
        "            #ind_of_nearest, = np.where(array == idx)\n",
        "             return idx\n",
        "\n",
        "\n",
        "             \n",
        "find_nearest([8, 3, 6, 4, 1, 2, 3, 4], 7) "
      ],
      "metadata": {
        "id": "scgpOIRGVLY3"
      },
      "execution_count": null,
      "outputs": []
    },
    {
      "cell_type": "code",
      "source": [
        "import numpy as np\n",
        "def find_nearest(array1, index):\n",
        "    array = np.asarray(array1)\n",
        "    x=np.where(array1[index]<array)\n",
        "    #for i in array:\n",
        "     # if i>array[index]:\n",
        "        # idx = (np.abs( array[index]-array)).argmin()\n",
        "        # #ind_of_nearest, = np.where(array == idx)\n",
        "    #y=np.take(array1, x)\n",
        "    return  (np.abs( np.take(array1, x)- array1[index])).argmin()\n",
        "\n",
        "\n",
        "find_nearest([8, 3, 6, 4, 1, 2, 3, 4], 7) "
      ],
      "metadata": {
        "colab": {
          "base_uri": "https://localhost:8080/"
        },
        "id": "JL7ySUYeZwoc",
        "outputId": "9faea5fa-eef6-41d0-98d2-8461e0d47096"
      },
      "execution_count": null,
      "outputs": [
        {
          "output_type": "execute_result",
          "data": {
            "text/plain": [
              "1"
            ]
          },
          "metadata": {},
          "execution_count": 34
        }
      ]
    },
    {
      "cell_type": "code",
      "source": [
        "import numpy as np\n",
        "def find_nearest(array, index):\n",
        "    array = np.asarray(array)\n",
        "    for i in array:\n",
        "      if i>array[index]:\n",
        "         idx = (np.abs( array[index]-array)).argmin()\n",
        "         #ind_of_nearest, = np.where(array == idx)\n",
        "         return array[idx]\n",
        "\n",
        "\n",
        "find_nearest([8, 3, 6, 4, 1, 2, 3, 4], 7) "
      ],
      "metadata": {
        "colab": {
          "base_uri": "https://localhost:8080/"
        },
        "id": "TYp2VpTUHzQx",
        "outputId": "51b8d0e5-96b9-4502-b502-6b9c95b01f8e"
      },
      "execution_count": null,
      "outputs": [
        {
          "output_type": "execute_result",
          "data": {
            "text/plain": [
              "4"
            ]
          },
          "metadata": {},
          "execution_count": 20
        }
      ]
    },
    {
      "cell_type": "code",
      "source": [
        "def nearest_larger_number(lst, i):\n",
        "\n",
        "    res = []\n",
        "    for k,v in enumerate(lst):\n",
        "        if v > lst[i]:\n",
        "            res.append([k,v])\n",
        "    resa = [[(j[0]-i),j[1]] for j in res]\n",
        "    if resa != []:\n",
        "        return sorted(resa, key=lambda x: (x[1], abs(x[0])))[0][0] + i\n",
        "    else:\n",
        "        return 'Null'\n",
        "    \n",
        "nearest_larger_number([8, 3, 6, 4, 1, 2, 3, 4], 7) "
      ],
      "metadata": {
        "colab": {
          "base_uri": "https://localhost:8080/"
        },
        "id": "ZVOiBGfpAgXq",
        "outputId": "7b1fb2b6-e9f4-4862-bc8b-4feb1845f808"
      },
      "execution_count": null,
      "outputs": [
        {
          "output_type": "execute_result",
          "data": {
            "text/plain": [
              "2"
            ]
          },
          "metadata": {},
          "execution_count": 3
        }
      ]
    },
    {
      "cell_type": "code",
      "source": [
        "import numpy as np\n",
        "def find_nearest(array, index):\n",
        "    array = np.asarray(array)\n",
        "    idx = (np.abs(array - array[index])).argmin()\n",
        "    ind_of_nearest, = np.where(array == idx)\n",
        "    return ind_of_nearest\n",
        "\n",
        "\n",
        "find_nearest([8, 3, 6, 4, 1, 2, 3, 4], 7) "
      ],
      "metadata": {
        "colab": {
          "base_uri": "https://localhost:8080/"
        },
        "id": "3z65zTvg7b_d",
        "outputId": "76ef3e77-f130-4ab0-e443-cfd5d460c648"
      },
      "execution_count": null,
      "outputs": [
        {
          "output_type": "execute_result",
          "data": {
            "text/plain": [
              "(array([1, 6]),)"
            ]
          },
          "metadata": {},
          "execution_count": 11
        }
      ]
    },
    {
      "cell_type": "code",
      "source": [
        "\n",
        "\n",
        "oneD_array=([1,2,3],)\n",
        "index, = np.where(oneD_array == 2)\n",
        "#Omitting \",\" returns array of element\n",
        "\n",
        "print(index,)\n"
      ],
      "metadata": {
        "colab": {
          "base_uri": "https://localhost:8080/"
        },
        "id": "bfKgbrfU7b9A",
        "outputId": "ca64c784-cc5e-4508-fe35-7de4c83b935d"
      },
      "execution_count": null,
      "outputs": [
        {
          "output_type": "stream",
          "name": "stdout",
          "text": [
            "[]\n"
          ]
        }
      ]
    },
    {
      "cell_type": "code",
      "source": [
        "animals = ['cat', 'dog', 'rabbit', 'horse']\n",
        "\n",
        "# get the index of 'dog'\n",
        "index = animals.index('dog')\n",
        "\n",
        "animals[1]\n",
        "# Output: 1"
      ],
      "metadata": {
        "colab": {
          "base_uri": "https://localhost:8080/",
          "height": 35
        },
        "id": "IAwGnQ_w7b6o",
        "outputId": "214ba1fc-d63e-4003-eaed-94731d2ae451"
      },
      "execution_count": null,
      "outputs": [
        {
          "output_type": "execute_result",
          "data": {
            "application/vnd.google.colaboratory.intrinsic+json": {
              "type": "string"
            },
            "text/plain": [
              "'dog'"
            ]
          },
          "metadata": {},
          "execution_count": 6
        }
      ]
    },
    {
      "cell_type": "code",
      "source": [
        ""
      ],
      "metadata": {
        "id": "Dr0TGcbo7b4A"
      },
      "execution_count": null,
      "outputs": []
    },
    {
      "cell_type": "code",
      "source": [
        ""
      ],
      "metadata": {
        "id": "d0KR28UR7b1i"
      },
      "execution_count": null,
      "outputs": []
    },
    {
      "cell_type": "code",
      "source": [
        ""
      ],
      "metadata": {
        "id": "GJafg2La7bys"
      },
      "execution_count": null,
      "outputs": []
    },
    {
      "cell_type": "code",
      "source": [
        ""
      ],
      "metadata": {
        "id": "Ixf1iRrJ7bvh"
      },
      "execution_count": null,
      "outputs": []
    },
    {
      "cell_type": "code",
      "source": [
        ""
      ],
      "metadata": {
        "id": "ygx-klCx7boJ"
      },
      "execution_count": null,
      "outputs": []
    },
    {
      "cell_type": "code",
      "metadata": {
        "id": "2L62EQWP1DKg"
      },
      "source": [
        "salary = [102, 33, 26, 27, 30, 33, 24]"
      ],
      "execution_count": null,
      "outputs": []
    },
    {
      "cell_type": "code",
      "metadata": {
        "colab": {
          "base_uri": "https://localhost:8080/"
        },
        "id": "QSTAsviU1Y34",
        "outputId": "4f303e2e-ae40-416a-ae6b-5c8bbaccdaf5"
      },
      "source": [
        "mean_salary = np.mean(salary)\n",
        "print(\"mean:\", mean_salary)"
      ],
      "execution_count": null,
      "outputs": [
        {
          "output_type": "stream",
          "name": "stdout",
          "text": [
            "mean: 39.285714285714285\n"
          ]
        }
      ]
    },
    {
      "cell_type": "code",
      "metadata": {
        "colab": {
          "base_uri": "https://localhost:8080/"
        },
        "id": "CJh9POFl15w7",
        "outputId": "7d2dcd06-056e-4cc9-ef20-afb76ff4a314"
      },
      "source": [
        "median_salary = np.median(salary)\n",
        "print(\"median :\", median_salary)"
      ],
      "execution_count": null,
      "outputs": [
        {
          "output_type": "stream",
          "name": "stdout",
          "text": [
            "median : 30.0\n"
          ]
        }
      ]
    },
    {
      "cell_type": "code",
      "metadata": {
        "colab": {
          "base_uri": "https://localhost:8080/"
        },
        "id": "661T5lOB2Uuc",
        "outputId": "deea3bce-003d-4b69-e80e-55f6239ea2a3"
      },
      "source": [
        "mode_salary = stats.mode(salary)\n",
        "print(\"mode : \", mode_salary)"
      ],
      "execution_count": null,
      "outputs": [
        {
          "output_type": "stream",
          "name": "stdout",
          "text": [
            "mode :  ModeResult(mode=array([33]), count=array([2]))\n"
          ]
        }
      ]
    },
    {
      "cell_type": "code",
      "metadata": {
        "colab": {
          "base_uri": "https://localhost:8080/"
        },
        "id": "DlJWNL0Z3pFo",
        "outputId": "d2dc5652-6d65-4dbc-cbd6-9c86694bc83e"
      },
      "source": [
        "lista = [100, 55, 95, 150, 101, 99, 53, 57, 70]\n",
        "sorted(lista)\n",
        "np.median(lista)"
      ],
      "execution_count": null,
      "outputs": [
        {
          "output_type": "execute_result",
          "data": {
            "text/plain": [
              "95.0"
            ]
          },
          "metadata": {},
          "execution_count": 11
        }
      ]
    },
    {
      "cell_type": "code",
      "metadata": {
        "colab": {
          "base_uri": "https://localhost:8080/"
        },
        "id": "7A8hbjTI8HB6",
        "outputId": "4d9f2f05-a7bb-4c79-a580-8663c3c5085c"
      },
      "source": [
        "print(\"Range :\", (np.max(salary)-np.min(salary)))"
      ],
      "execution_count": null,
      "outputs": [
        {
          "output_type": "stream",
          "name": "stdout",
          "text": [
            "Range : 78\n"
          ]
        }
      ]
    },
    {
      "cell_type": "code",
      "metadata": {
        "colab": {
          "base_uri": "https://localhost:8080/"
        },
        "id": "bwXZ_ipp8kfv",
        "outputId": "5aad9edf-2077-46c9-b4f8-053e151eca77"
      },
      "source": [
        "print(\"Variance: \",(np.var(salary)))"
      ],
      "execution_count": null,
      "outputs": [
        {
          "output_type": "stream",
          "name": "stdout",
          "text": [
            "Variance:  665.6326530612245\n"
          ]
        }
      ]
    },
    {
      "cell_type": "code",
      "metadata": {
        "colab": {
          "base_uri": "https://localhost:8080/"
        },
        "id": "LNdNBaYN8yn-",
        "outputId": "ea86aa89-16cd-499b-a370-88bea1d18d27"
      },
      "source": [
        "print(\"Std: \", (np.std(salary)))"
      ],
      "execution_count": null,
      "outputs": [
        {
          "output_type": "stream",
          "name": "stdout",
          "text": [
            "Std:  25.799857617072703\n"
          ]
        }
      ]
    },
    {
      "cell_type": "code",
      "metadata": {
        "colab": {
          "base_uri": "https://localhost:8080/"
        },
        "id": "Aql-GlKLAXTI",
        "outputId": "c20e3c05-e4ec-4f5a-8f12-0a452ff19646"
      },
      "source": [
        "new_data = [1, 10, 7, 12, 0, 30, 15, 22, 8, 2]\n",
        "print(\"Std: \", (np.std(new_data)))"
      ],
      "execution_count": null,
      "outputs": [
        {
          "output_type": "stream",
          "name": "stdout",
          "text": [
            "Std:  9.089004345911603\n"
          ]
        }
      ]
    },
    {
      "cell_type": "code",
      "metadata": {
        "colab": {
          "base_uri": "https://localhost:8080/"
        },
        "id": "dLj5wQOUA4pO",
        "outputId": "04b9f5d4-356a-4eca-977e-cd50db3907b8"
      },
      "source": [
        "data3 = [9, 11, 4, 14, 8, 2, 10, 3, 10, 9, 6, 0, 1]\n",
        "sorted(data3)\n"
      ],
      "execution_count": null,
      "outputs": [
        {
          "output_type": "execute_result",
          "data": {
            "text/plain": [
              "[0, 1, 2, 3, 4, 6, 8, 9, 9, 10, 10, 11, 14]"
            ]
          },
          "metadata": {},
          "execution_count": 16
        }
      ]
    },
    {
      "cell_type": "code",
      "metadata": {
        "colab": {
          "base_uri": "https://localhost:8080/"
        },
        "id": "iRYLHdlHBKp_",
        "outputId": "ab2ec81e-db45-41cb-dcbf-66006fdfb159"
      },
      "source": [
        "np.median(data3)"
      ],
      "execution_count": null,
      "outputs": [
        {
          "output_type": "execute_result",
          "data": {
            "text/plain": [
              "8.0"
            ]
          },
          "metadata": {},
          "execution_count": 17
        }
      ]
    },
    {
      "cell_type": "code",
      "metadata": {
        "colab": {
          "base_uri": "https://localhost:8080/"
        },
        "id": "KbTNsYlWBcR0",
        "outputId": "867e2c0f-d5e3-44ac-b0fe-9793a4564fea"
      },
      "source": [
        "data4 = [8, 10, 4, 24, 8, 3, 10, 3, 40, 7, 6, 12, 4]\n",
        "np.median(data3)\n",
        "sorted(data4)\n"
      ],
      "execution_count": null,
      "outputs": [
        {
          "output_type": "execute_result",
          "data": {
            "text/plain": [
              "[3, 3, 4, 4, 6, 7, 8, 8, 10, 10, 12, 24, 40]"
            ]
          },
          "metadata": {},
          "execution_count": 19
        }
      ]
    },
    {
      "cell_type": "code",
      "source": [
        "5 or "
      ],
      "metadata": {
        "id": "XVb_rl8ntIGX"
      },
      "execution_count": null,
      "outputs": []
    },
    {
      "cell_type": "code",
      "source": [
        "def bitweise(x, y, b):\n",
        "    return (b and x)|((b-1)and y)\n",
        "\n",
        "bitweise(-4, -3, 0)"
      ],
      "metadata": {
        "colab": {
          "base_uri": "https://localhost:8080/"
        },
        "id": "oIFtfRVrTLTx",
        "outputId": "302b22e5-d2aa-4e63-964d-ccbae3f1ae78"
      },
      "execution_count": null,
      "outputs": [
        {
          "output_type": "execute_result",
          "data": {
            "text/plain": [
              "-3"
            ]
          },
          "metadata": {},
          "execution_count": 38
        }
      ]
    },
    {
      "cell_type": "code",
      "source": [
        "def bits(x,  b):\n",
        "    return (b and x)\n",
        "bits(5,  1)"
      ],
      "metadata": {
        "colab": {
          "base_uri": "https://localhost:8080/"
        },
        "id": "1fX3hg32st3h",
        "outputId": "a6a9990a-3f50-4772-8d7c-df8a6005c89d"
      },
      "execution_count": null,
      "outputs": [
        {
          "output_type": "execute_result",
          "data": {
            "text/plain": [
              "5"
            ]
          },
          "metadata": {},
          "execution_count": 28
        }
      ]
    },
    {
      "cell_type": "code",
      "source": [
        "def bits(x, y, b):\n",
        "    return x * b + y * (1 - b)\n",
        "\n",
        "bits(5, 10, 0)"
      ],
      "metadata": {
        "colab": {
          "base_uri": "https://localhost:8080/"
        },
        "id": "JgCN0RJKSZB9",
        "outputId": "9702c96a-e00b-41fd-9433-a71d1132b005"
      },
      "execution_count": null,
      "outputs": [
        {
          "output_type": "execute_result",
          "data": {
            "text/plain": [
              "10"
            ]
          },
          "metadata": {},
          "execution_count": 12
        }
      ]
    },
    {
      "cell_type": "code",
      "source": [
        "def bitweis(x, y, b):\n",
        "    return (y&b)|(x&(b-1)\n",
        "bitweis(5, 6, 1)"
      ],
      "metadata": {
        "colab": {
          "base_uri": "https://localhost:8080/",
          "height": 130
        },
        "id": "3jWS6Pg4R4Hx",
        "outputId": "f6cab576-4079-4759-ea80-327e9e137844"
      },
      "execution_count": null,
      "outputs": [
        {
          "output_type": "error",
          "ename": "SyntaxError",
          "evalue": "ignored",
          "traceback": [
            "\u001b[0;36m  File \u001b[0;32m\"<ipython-input-11-bc9bdd428490>\"\u001b[0;36m, line \u001b[0;32m3\u001b[0m\n\u001b[0;31m    bitweis(5, 6, 1)\u001b[0m\n\u001b[0m          ^\u001b[0m\n\u001b[0;31mSyntaxError\u001b[0m\u001b[0;31m:\u001b[0m invalid syntax\n"
          ]
        }
      ]
    },
    {
      "cell_type": "code",
      "source": [
        "def bitweise(x, y, b):\n",
        "    return (y&b)|(x&(b is 1)\n",
        "bitweise(5, 6, 1)"
      ],
      "metadata": {
        "colab": {
          "base_uri": "https://localhost:8080/",
          "height": 130
        },
        "id": "c9lpku4bNmyf",
        "outputId": "a7a7f8cb-351c-45c7-d0f1-ac132c4a2144"
      },
      "execution_count": null,
      "outputs": [
        {
          "output_type": "error",
          "ename": "SyntaxError",
          "evalue": "ignored",
          "traceback": [
            "\u001b[0;36m  File \u001b[0;32m\"<ipython-input-6-b176d84cec51>\"\u001b[0;36m, line \u001b[0;32m3\u001b[0m\n\u001b[0;31m    bitweise(5, 6, 1)\u001b[0m\n\u001b[0m           ^\u001b[0m\n\u001b[0;31mSyntaxError\u001b[0m\u001b[0;31m:\u001b[0m invalid syntax\n"
          ]
        }
      ]
    },
    {
      "cell_type": "code",
      "metadata": {
        "colab": {
          "base_uri": "https://localhost:8080/"
        },
        "id": "OimPIKX4j6KH",
        "outputId": "3a6cb10e-8ca8-497e-f385-20edc1c2e1ad"
      },
      "source": [
        "math.factorial(10)"
      ],
      "execution_count": null,
      "outputs": [
        {
          "output_type": "execute_result",
          "data": {
            "text/plain": [
              "3628800"
            ]
          },
          "metadata": {},
          "execution_count": 8
        }
      ]
    },
    {
      "cell_type": "code",
      "metadata": {
        "colab": {
          "base_uri": "https://localhost:8080/"
        },
        "id": "6cQ8C0L8tQqO",
        "outputId": "5f84d9ff-52fd-4160-e5d4-5a8049e2d065"
      },
      "source": [
        "import numpy as np\n",
        "\n",
        "list1 = [1,2,3,4,5]\n",
        "result = np.prod(list1)\n",
        "\n",
        "print(result)\n"
      ],
      "execution_count": null,
      "outputs": [
        {
          "output_type": "stream",
          "name": "stdout",
          "text": [
            "120\n"
          ]
        }
      ]
    },
    {
      "cell_type": "code",
      "metadata": {
        "colab": {
          "base_uri": "https://localhost:8080/"
        },
        "id": "1bCQzsrvt_sy",
        "outputId": "f915be96-f566-43bd-a5af-2b5e0c4ca32a"
      },
      "source": [
        "def smallest_number(n):    \n",
        "    lst = [i for i in range(1, n + 1)]\n",
        "    lst2, res = [], []\n",
        "    dictt = {}\n",
        "    t = 0\n",
        "    for i in lst:\n",
        "        j = 2\n",
        "        while i > 1:\n",
        "            if i % j == 0:\n",
        "                i = i // j\n",
        "                lst2.append(j)\n",
        "            else:\n",
        "                j += 1\n",
        "        \n",
        "        dictt[lst[t]] = lst2\n",
        "        lst2 = []\n",
        "        t += 1\n",
        "\n",
        "    for k,v in dictt.items():\n",
        "        for i in v:\n",
        "            a = v.count(i)\n",
        "            while res.count(i) < a:\n",
        "                res.append(i)\n",
        "\n",
        "#     print(dictt)\n",
        "#     print(res) \n",
        "    count = 1\n",
        "    for i in res:\n",
        "        count *= i\n",
        "    return count\n",
        "\n",
        "smallest_number(20)"
      ],
      "execution_count": null,
      "outputs": [
        {
          "output_type": "execute_result",
          "data": {
            "text/plain": [
              "232792560"
            ]
          },
          "metadata": {},
          "execution_count": 41
        }
      ]
    },
    {
      "cell_type": "code",
      "metadata": {
        "colab": {
          "base_uri": "https://localhost:8080/"
        },
        "id": "m3RWmFmSrO40",
        "outputId": "f1ccfa7d-dabb-41ea-ead6-1c859e229027"
      },
      "source": [
        "okek=[16,9]\n",
        "for num in range(4, 21):\n",
        "   # all prime numbers are greater than 4\n",
        "   if num > 1:\n",
        "       for i in range(2, num):\n",
        "           if (num % i) == 0:\n",
        "               break\n",
        "       else:\n",
        "           okek.append(num)\n",
        "print(okek)\n",
        "print(np.prod(okek))"
      ],
      "execution_count": null,
      "outputs": [
        {
          "output_type": "stream",
          "name": "stdout",
          "text": [
            "[16, 9, 5, 7, 11, 13, 17, 19]\n",
            "232792560\n"
          ]
        }
      ]
    },
    {
      "cell_type": "code",
      "metadata": {
        "colab": {
          "base_uri": "https://localhost:8080/"
        },
        "id": "PWCf8aK7to-K",
        "outputId": "e05c0a3f-4c0a-417a-87eb-1b21b3417dc1"
      },
      "source": [
        "okek=[16, 9, 5, 7, 11, 13, 17, 19]\n",
        "print(16*9*5*7*11*13*17*19)"
      ],
      "execution_count": null,
      "outputs": [
        {
          "output_type": "stream",
          "name": "stdout",
          "text": [
            "232792560\n"
          ]
        }
      ]
    },
    {
      "cell_type": "code",
      "metadata": {
        "id": "n4fx_tn-jaDg"
      },
      "source": [
        "import math"
      ],
      "execution_count": null,
      "outputs": []
    },
    {
      "cell_type": "code",
      "metadata": {
        "colab": {
          "base_uri": "https://localhost:8080/"
        },
        "id": "NZJDMumrgKGk",
        "outputId": "3cd557bf-488e-4e52-f393-5c8f18330814"
      },
      "source": [
        "okek=[]\n",
        "for i in range(4,21):\n",
        "  for j in range(1,21):\n",
        "\n",
        "      if i**4==j :\n",
        "        okek.append(j)\n",
        "      elif i%2==1 and i**2==j:\n",
        "        okek.append(j)\n",
        "        print(okek)\n",
        "okek"
      ],
      "execution_count": null,
      "outputs": [
        {
          "output_type": "execute_result",
          "data": {
            "text/plain": [
              "[]"
            ]
          },
          "metadata": {},
          "execution_count": 28
        }
      ]
    },
    {
      "cell_type": "markdown",
      "metadata": {
        "id": "kddmdWkxJ9dY"
      },
      "source": [
        ""
      ]
    },
    {
      "cell_type": "markdown",
      "metadata": {
        "id": "YZMv8KBhtBOV"
      },
      "source": [
        "![image.png](data:image/png;base64,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)"
      ]
    },
    {
      "cell_type": "code",
      "metadata": {
        "id": "4Q7nBUGMm0j3",
        "colab": {
          "base_uri": "https://localhost:8080/"
        },
        "outputId": "b3809f14-7cc1-4288-a583-d6e44303346d"
      },
      "source": [
        "fx= lambda x: str(x)+str(int(10-(x%10)))\n",
        "print(fx())"
      ],
      "execution_count": null,
      "outputs": [
        {
          "output_type": "stream",
          "name": "stdout",
          "text": [
            "37\n"
          ]
        }
      ]
    },
    {
      "cell_type": "code",
      "metadata": {
        "id": "8EBTuSFKs_wS"
      },
      "source": [
        ""
      ],
      "execution_count": null,
      "outputs": []
    },
    {
      "cell_type": "code",
      "metadata": {
        "colab": {
          "base_uri": "https://localhost:8080/"
        },
        "id": "bGrOe5Tdks5i",
        "outputId": "3fba4b9a-a881-45f7-e0a8-dee3cbe4dd00"
      },
      "source": [
        "a=sum(list(map(int,input(\"Enter your number \"))))\n",
        "a"
      ],
      "execution_count": null,
      "outputs": [
        {
          "name": "stdout",
          "output_type": "stream",
          "text": [
            "Enter your number 15\n"
          ]
        },
        {
          "output_type": "execute_result",
          "data": {
            "text/plain": [
              "6"
            ]
          },
          "metadata": {},
          "execution_count": 17
        }
      ]
    },
    {
      "cell_type": "code",
      "metadata": {
        "id": "PfPwCihxlTja",
        "colab": {
          "base_uri": "https://localhost:8080/",
          "height": 130
        },
        "outputId": "6a9cefe0-c56d-4817-862d-37248890aaac"
      },
      "source": [
        "while True:\n",
        "    prompt1=raw_input('Can I make this stupid thing work?').lower()\n",
        "\n",
        "    if prompt1 == 'yes':\n",
        "       print 'Hooray, I can!'\n",
        "    elif prompt1 == 'no':\n",
        "       print 'Well I did anyway!'\n",
        "    else:"
      ],
      "execution_count": null,
      "outputs": [
        {
          "output_type": "error",
          "ename": "SyntaxError",
          "evalue": "ignored",
          "traceback": [
            "\u001b[0;36m  File \u001b[0;32m\"<ipython-input-16-8f5525812589>\"\u001b[0;36m, line \u001b[0;32m5\u001b[0m\n\u001b[0;31m    print 'Hooray, I can!'\u001b[0m\n\u001b[0m                         ^\u001b[0m\n\u001b[0;31mSyntaxError\u001b[0m\u001b[0;31m:\u001b[0m Missing parentheses in call to 'print'. Did you mean print('Hooray, I can!')?\n"
          ]
        }
      ]
    },
    {
      "cell_type": "code",
      "metadata": {
        "id": "s9SIDO35Btbe",
        "colab": {
          "base_uri": "https://localhost:8080/"
        },
        "outputId": "c4e66cc2-0d2b-4432-b6b4-feecb82634c2"
      },
      "source": [
        "while True: \n",
        "    b= input(\"Enter your number \")\n",
        "    a=sum(list(map(int,b)))\n",
        "    if  a % 10 == 0 :\n",
        "        print(f'{b} is a perfect number')\n",
        "    else:\n",
        "        fx= str(b)+str(abs(int(10-(a%10))))+\".\"\n",
        "        print(fx)\n",
        "    break"
      ],
      "execution_count": null,
      "outputs": [
        {
          "output_type": "stream",
          "name": "stdout",
          "text": [
            "Enter your number 79\n",
            "794.\n"
          ]
        }
      ]
    },
    {
      "cell_type": "code",
      "metadata": {
        "id": "8c_YYXwdsxV3"
      },
      "source": [
        ""
      ],
      "execution_count": null,
      "outputs": []
    },
    {
      "cell_type": "code",
      "metadata": {
        "colab": {
          "base_uri": "https://localhost:8080/"
        },
        "id": "qf90WI3k4brr",
        "outputId": "78e56d4e-ad2f-407a-f3c7-104bfb5e71bc"
      },
      "source": [
        "def perfnum(a):\n",
        "    if sum([int(i)for i in  str(a)])==10:return print(\"perfect number\")\n",
        "    elif (10-sum([int(i)for i in  str(a)]))>0:return print(str(a)+str(10-sum([int(i)for i in  str(a)])) )\n",
        "    else:return print(\"not perfect\")\n",
        "perfnum(98754)"
      ],
      "execution_count": null,
      "outputs": [
        {
          "output_type": "stream",
          "name": "stdout",
          "text": [
            "not perfect\n"
          ]
        }
      ]
    },
    {
      "cell_type": "code",
      "metadata": {
        "colab": {
          "base_uri": "https://localhost:8080/"
        },
        "id": "v-0Ivnxd4r56",
        "outputId": "780d352c-759f-4a95-c6f4-55588cbe2065"
      },
      "source": [
        "def perfect(n):\n",
        "    i=0\n",
        "    count = 0\n",
        "    \n",
        "    while True:\n",
        "        count += 1\n",
        "        sum_digits = 0\n",
        "        for digit in str(count):\n",
        "            sum_digits += int(digit)\n",
        "        if sum_digits == 10:\n",
        "            i = i+1\n",
        "        if i == n:\n",
        "            break\n",
        "    return count       \n",
        "      \n",
        "perfect(79)"
      ],
      "execution_count": null,
      "outputs": [
        {
          "output_type": "execute_result",
          "data": {
            "text/plain": [
              "1153"
            ]
          },
          "metadata": {},
          "execution_count": 30
        }
      ]
    },
    {
      "cell_type": "code",
      "metadata": {
        "colab": {
          "base_uri": "https://localhost:8080/"
        },
        "id": "KzrpGhqa4_hn",
        "outputId": "69f20bfb-7678-447e-d6e1-634fa6eba6f9"
      },
      "source": [
        "def perfect_number(n):\n",
        "    m = 10\n",
        "    result = []\n",
        "    while True:\n",
        "        summ = sum([int(i) for i in str(m)])\n",
        "        if summ == 10:\n",
        "            result.append(m)\n",
        "            if len(result) == n:\n",
        "                break\n",
        "            else:\n",
        "                m += 1\n",
        "        else:\n",
        "            m += 1\n",
        "    return result[-1]\n",
        "\n",
        "perfect_number(79)"
      ],
      "execution_count": null,
      "outputs": [
        {
          "output_type": "execute_result",
          "data": {
            "text/plain": [
              "1153"
            ]
          },
          "metadata": {},
          "execution_count": 31
        }
      ]
    },
    {
      "cell_type": "code",
      "metadata": {
        "colab": {
          "base_uri": "https://localhost:8080/"
        },
        "id": "eQ-jA-gn5oc3",
        "outputId": "9456d0d5-bc06-4227-b1bb-c1a80b2f4172"
      },
      "source": [
        "def perfect_number(n):\n",
        "    m = 10\n",
        "    result = []\n",
        "    while True:\n",
        "        summ = sum([int(i) for i in str(m)])\n",
        "        if summ == 10:\n",
        "            result.append(m)\n",
        "            if len(result) == n:\n",
        "                break\n",
        "            else:\n",
        "                m += 1\n",
        "        else:\n",
        "            m += 1\n",
        "    return result[-1]\n",
        "\n",
        "perfect_number(79)"
      ],
      "execution_count": null,
      "outputs": [
        {
          "output_type": "execute_result",
          "data": {
            "text/plain": [
              "1153"
            ]
          },
          "metadata": {},
          "execution_count": 33
        }
      ]
    },
    {
      "cell_type": "code",
      "metadata": {
        "id": "h07dYPMjsys1"
      },
      "source": [
        "import random\n",
        "words = (\"Rock\", \"Paper\", \"scissor\")\n",
        "word = random.choice(words)\n",
        "correct = word\n",
        "print(word)"
      ],
      "execution_count": null,
      "outputs": []
    },
    {
      "cell_type": "code",
      "metadata": {
        "id": "EwJRzkEGt5eI"
      },
      "source": [
        "6\n",
        "\n",
        "Check out Lexicontext, which has dictionary definitions for many words, and has a simple API for generating a random word:\n",
        "\n",
        "Lexicontext *dictionary = [Lexicontext sharedDictionary];\n",
        "NSString *word = [dictionary randomWord];"
      ],
      "execution_count": null,
      "outputs": []
    },
    {
      "cell_type": "code",
      "metadata": {
        "id": "A6BEUNGeuhe1"
      },
      "source": [
        " import random\n",
        " import string"
      ],
      "execution_count": null,
      "outputs": []
    },
    {
      "cell_type": "code",
      "metadata": {
        "id": "J5oUPLp7wujD"
      },
      "source": [
        "dict = { 'A' : 1, 'A' : 2, 'A' : 3}\n",
        "\n",
        "random_element = random.choice(list(dict.item"
      ],
      "execution_count": null,
      "outputs": []
    },
    {
      "cell_type": "code",
      "metadata": {
        "id": "RoohXKfRudK3"
      },
      "source": [
        "phone={2: {'a','b','c', 3: 'def', 4: 'ghi', 5: 'jkl', 6: 'mno', 7: 'pqrs', 8: 'tuv', 9: 'wxyz'}\n",
        "\n",
        "def random_char(y):\n",
        "    return ''.join(random.choice(phone) for x in range(2,10))\n",
        "print (random_char(5))\n"
      ],
      "execution_count": null,
      "outputs": []
    },
    {
      "cell_type": "code",
      "metadata": {
        "id": "WQX4_e-d2SPu"
      },
      "source": [
        " dict_filter = lambda x, y: dict([ (i,x[i]) for i in x if i in set(y) ])\n"
      ],
      "execution_count": null,
      "outputs": []
    },
    {
      "cell_type": "code",
      "metadata": {
        "id": "QS5r7EMf3DOB"
      },
      "source": [
        "dict_filter = lambda x, y: dict([ (i,x[i]) for i in x if i in set(y) ])\n",
        ">>> large_dict = {\"a\":1,\"b\":2,\"c\":3,\"d\":4}\n",
        ">>> new_dict_keys = (\"c\",\"d\")\n",
        ">>> small_dict=dict_filter(large_dict, new_dict_keys)\n",
        ">>> print(small_dict)"
      ],
      "execution_count": null,
      "outputs": []
    },
    {
      "cell_type": "code",
      "metadata": {
        "id": "EmPALUk-2c2j"
      },
      "source": [
        " \n",
        "phone={2: {'a','b','c'}, 3: {'d','e','f'}}\n",
        "dict_filter = lambda x, y: dict([ (i,x[i]) for i in x if i in set(y) ])\n",
        "b=int(input('enter a number or numbers with coma '))\n",
        "random.choice(list(phone[b]))\n",
        "  dict_filter = lambda x, y: dict([ (i,x[i]) for i in x if i in set(y) ])\n",
        "  dict_filter()"
      ],
      "execution_count": null,
      "outputs": []
    },
    {
      "cell_type": "code",
      "metadata": {
        "colab": {
          "base_uri": "https://localhost:8080/"
        },
        "id": "BUYXvr_V83kd",
        "outputId": "b88fff39-21bf-40ca-db05-c9cb6618af5f"
      },
      "source": [
        "import itertools\n",
        "b=list([int(x) for x in input(\"Please enter the numbers: \").split()])\n",
        "\n",
        "phone={2: {'a','b','c'}, 3: {'d','e','f'}}\n",
        "random.choice(list(phone[x] for x in b))\n",
        "items = random.choice(list(phone[x] for x in b))\n",
        "for i in range(len(items)+1):\n",
        "    for combination in itertools.combinations(items, i): \n",
        "        print(combination)"
      ],
      "execution_count": null,
      "outputs": [
        {
          "output_type": "stream",
          "name": "stdout",
          "text": [
            "Please enter the numbers: 2\n",
            "()\n",
            "('a',)\n",
            "('b',)\n",
            "('c',)\n",
            "('a', 'b')\n",
            "('a', 'c')\n",
            "('b', 'c')\n",
            "('a', 'b', 'c')\n"
          ]
        }
      ]
    },
    {
      "cell_type": "code",
      "metadata": {
        "colab": {
          "base_uri": "https://localhost:8080/",
          "height": 249
        },
        "id": "3JmfZa2tGbby",
        "outputId": "97b4836f-3119-40e7-e2f0-801cbf201dcd"
      },
      "source": [
        "\n",
        "my_list = []\n",
        "while True:\n",
        "    my_list.append(int(input().split()))\n",
        "    my_list.sort()\n",
        "    print(sum(range(my_list[0], my_list[-1])))\n",
        "\n"
      ],
      "execution_count": null,
      "outputs": [
        {
          "name": "stdout",
          "output_type": "stream",
          "text": [
            "2 4\n"
          ]
        },
        {
          "output_type": "error",
          "ename": "TypeError",
          "evalue": "ignored",
          "traceback": [
            "\u001b[0;31m---------------------------------------------------------------------------\u001b[0m",
            "\u001b[0;31mTypeError\u001b[0m                                 Traceback (most recent call last)",
            "\u001b[0;32m<ipython-input-15-ef9d9ef5f07e>\u001b[0m in \u001b[0;36m<module>\u001b[0;34m()\u001b[0m\n\u001b[1;32m      2\u001b[0m \u001b[0mmy_list\u001b[0m \u001b[0;34m=\u001b[0m \u001b[0;34m[\u001b[0m\u001b[0;34m]\u001b[0m\u001b[0;34m\u001b[0m\u001b[0;34m\u001b[0m\u001b[0m\n\u001b[1;32m      3\u001b[0m \u001b[0;32mwhile\u001b[0m \u001b[0;32mTrue\u001b[0m\u001b[0;34m:\u001b[0m\u001b[0;34m\u001b[0m\u001b[0;34m\u001b[0m\u001b[0m\n\u001b[0;32m----> 4\u001b[0;31m     \u001b[0mmy_list\u001b[0m\u001b[0;34m.\u001b[0m\u001b[0mappend\u001b[0m\u001b[0;34m(\u001b[0m\u001b[0mint\u001b[0m\u001b[0;34m(\u001b[0m\u001b[0minput\u001b[0m\u001b[0;34m(\u001b[0m\u001b[0;34m)\u001b[0m\u001b[0;34m.\u001b[0m\u001b[0msplit\u001b[0m\u001b[0;34m(\u001b[0m\u001b[0;34m)\u001b[0m\u001b[0;34m)\u001b[0m\u001b[0;34m)\u001b[0m\u001b[0;34m\u001b[0m\u001b[0;34m\u001b[0m\u001b[0m\n\u001b[0m\u001b[1;32m      5\u001b[0m     \u001b[0mmy_list\u001b[0m\u001b[0;34m.\u001b[0m\u001b[0msort\u001b[0m\u001b[0;34m(\u001b[0m\u001b[0;34m)\u001b[0m\u001b[0;34m\u001b[0m\u001b[0;34m\u001b[0m\u001b[0m\n\u001b[1;32m      6\u001b[0m     \u001b[0mprint\u001b[0m\u001b[0;34m(\u001b[0m\u001b[0msum\u001b[0m\u001b[0;34m(\u001b[0m\u001b[0mrange\u001b[0m\u001b[0;34m(\u001b[0m\u001b[0mmy_list\u001b[0m\u001b[0;34m[\u001b[0m\u001b[0;36m0\u001b[0m\u001b[0;34m]\u001b[0m\u001b[0;34m,\u001b[0m \u001b[0mmy_list\u001b[0m\u001b[0;34m[\u001b[0m\u001b[0;34m-\u001b[0m\u001b[0;36m1\u001b[0m\u001b[0;34m]\u001b[0m\u001b[0;34m)\u001b[0m\u001b[0;34m)\u001b[0m\u001b[0;34m)\u001b[0m\u001b[0;34m\u001b[0m\u001b[0;34m\u001b[0m\u001b[0m\n",
            "\u001b[0;31mTypeError\u001b[0m: int() argument must be a string, a bytes-like object or a number, not 'list'"
          ]
        }
      ]
    },
    {
      "cell_type": "code",
      "metadata": {
        "colab": {
          "base_uri": "https://localhost:8080/",
          "height": 283
        },
        "id": "TlUROt6o-c7V",
        "outputId": "bd57b325-32e9-4eb6-c3ef-ee78ddd5cff2"
      },
      "source": [
        "i= int(input(\"Please enter the  first number: \"))\n",
        "j= int(input(\"Please enter the  second number: \"))\n",
        "k=int(input(\"Please enter the  third number: \"))\n",
        "my_numbers= list(list([i,j,k]).sort())\n",
        "my_numbers[0]\n",
        "#a=range(my_numbers[0],my_numbers[-1]+1)\n",
        "#6my_total=sum(range(my_numbers[0],my_numbers[-1]+1))\n",
        "#my_total"
      ],
      "execution_count": null,
      "outputs": [
        {
          "name": "stdout",
          "output_type": "stream",
          "text": [
            "Please enter the  first number: 2\n",
            "Please enter the  second number: 5\n",
            "Please enter the  third number: 6\n"
          ]
        },
        {
          "output_type": "error",
          "ename": "TypeError",
          "evalue": "ignored",
          "traceback": [
            "\u001b[0;31m---------------------------------------------------------------------------\u001b[0m",
            "\u001b[0;31mTypeError\u001b[0m                                 Traceback (most recent call last)",
            "\u001b[0;32m<ipython-input-9-c4854e7cc6d0>\u001b[0m in \u001b[0;36m<module>\u001b[0;34m()\u001b[0m\n\u001b[1;32m      2\u001b[0m \u001b[0mj\u001b[0m\u001b[0;34m=\u001b[0m \u001b[0mint\u001b[0m\u001b[0;34m(\u001b[0m\u001b[0minput\u001b[0m\u001b[0;34m(\u001b[0m\u001b[0;34m\"Please enter the  second number: \"\u001b[0m\u001b[0;34m)\u001b[0m\u001b[0;34m)\u001b[0m\u001b[0;34m\u001b[0m\u001b[0;34m\u001b[0m\u001b[0m\n\u001b[1;32m      3\u001b[0m \u001b[0mk\u001b[0m\u001b[0;34m=\u001b[0m\u001b[0mint\u001b[0m\u001b[0;34m(\u001b[0m\u001b[0minput\u001b[0m\u001b[0;34m(\u001b[0m\u001b[0;34m\"Please enter the  third number: \"\u001b[0m\u001b[0;34m)\u001b[0m\u001b[0;34m)\u001b[0m\u001b[0;34m\u001b[0m\u001b[0;34m\u001b[0m\u001b[0m\n\u001b[0;32m----> 4\u001b[0;31m \u001b[0mmy_numbers\u001b[0m\u001b[0;34m=\u001b[0m \u001b[0mlist\u001b[0m\u001b[0;34m(\u001b[0m\u001b[0mlist\u001b[0m\u001b[0;34m(\u001b[0m\u001b[0;34m[\u001b[0m\u001b[0mi\u001b[0m\u001b[0;34m,\u001b[0m\u001b[0mj\u001b[0m\u001b[0;34m,\u001b[0m\u001b[0mk\u001b[0m\u001b[0;34m]\u001b[0m\u001b[0;34m)\u001b[0m\u001b[0;34m.\u001b[0m\u001b[0msort\u001b[0m\u001b[0;34m(\u001b[0m\u001b[0;34m)\u001b[0m\u001b[0;34m)\u001b[0m\u001b[0;34m\u001b[0m\u001b[0;34m\u001b[0m\u001b[0m\n\u001b[0m\u001b[1;32m      5\u001b[0m \u001b[0mmy_numbers\u001b[0m\u001b[0;34m[\u001b[0m\u001b[0;36m0\u001b[0m\u001b[0;34m]\u001b[0m\u001b[0;34m\u001b[0m\u001b[0;34m\u001b[0m\u001b[0m\n\u001b[1;32m      6\u001b[0m \u001b[0;31m#a=range(my_numbers[0],my_numbers[-1]+1)\u001b[0m\u001b[0;34m\u001b[0m\u001b[0;34m\u001b[0m\u001b[0;34m\u001b[0m\u001b[0m\n",
            "\u001b[0;31mTypeError\u001b[0m: 'NoneType' object is not iterable"
          ]
        }
      ]
    },
    {
      "cell_type": "code",
      "metadata": {
        "colab": {
          "base_uri": "https://localhost:8080/"
        },
        "id": "3SFkkrK-XzYV",
        "outputId": "c5f06f9f-efb5-4dd7-9dac-c50510be96b4"
      },
      "source": [
        "def getsequencesum(i, j, k):\n",
        "   return ((i+j)*(j-i+1)/2)+((k+j)*(j-k+1)/2)-j\n",
        "\n",
        "getsequencesum(5,9,6)"
      ],
      "execution_count": null,
      "outputs": [
        {
          "output_type": "execute_result",
          "data": {
            "text/plain": [
              "56.0"
            ]
          },
          "metadata": {},
          "execution_count": 65
        }
      ]
    },
    {
      "cell_type": "code",
      "metadata": {
        "colab": {
          "base_uri": "https://localhost:8080/"
        },
        "id": "7QjKE9lIXL2X",
        "outputId": "302cc104-0648-46e5-d31e-a807402a782d"
      },
      "source": [
        "import timeit\n",
        "statement='''\n",
        "def getsequencesum(i, j, k):\n",
        "   return ((i+j)*(j-i+1)/2)+((k+j)*(j-k+1)/2)-j\n",
        "\n",
        "getsequencesum(5,9,6) '''\n",
        "\n",
        "print(f'Execution time is: {timeit.timeit(stmt=statement, number=10000000)}')"
      ],
      "execution_count": null,
      "outputs": [
        {
          "output_type": "stream",
          "name": "stdout",
          "text": [
            "Execution time is: 4.772606774999986\n"
          ]
        }
      ]
    },
    {
      "cell_type": "code",
      "metadata": {
        "colab": {
          "base_uri": "https://localhost:8080/"
        },
        "id": "mwSpqF4WTJJ5",
        "outputId": "09834e3f-8575-4e7f-ada1-f78cb0552922"
      },
      "source": [
        "import timeit\n",
        "statement='''\n",
        "def getsequencesum(i, j, k):\n",
        "  my_total=sum(range(i,j+1))+sum(range(k,j))\n",
        "  return my_total\n",
        "\n",
        "getsequencesum(5,9,6) '''\n",
        "\n",
        "print(f'Execution time is: {timeit.timeit(stmt=statement, number=10000000)}')"
      ],
      "execution_count": null,
      "outputs": [
        {
          "output_type": "stream",
          "name": "stdout",
          "text": [
            "Execution time is: 9.248810318999858\n"
          ]
        }
      ]
    },
    {
      "cell_type": "code",
      "metadata": {
        "colab": {
          "base_uri": "https://localhost:8080/"
        },
        "id": "A-e5jMxNNjds",
        "outputId": "7af34e47-c1b0-4199-d219-7b82274f5e80"
      },
      "source": [
        "import timeit\n",
        "statement='''\n",
        "def getsequencesum(i, j, k):\n",
        "  my_numbers=list((i, j, k))\n",
        "  my_numbers.sort()\n",
        "  my_total=sum(range(my_numbers[0],my_numbers[-1]+1))+sum(range(my_numbers[1],my_numbers[-1]))\n",
        "  return my_total\n",
        "\n",
        "getsequencesum(5,9,6) '''\n",
        "\n",
        "print(f'Execution time is: {timeit.timeit(stmt=statement, number=10000000)}')"
      ],
      "execution_count": null,
      "outputs": [
        {
          "output_type": "stream",
          "name": "stdout",
          "text": [
            "Execution time is: 13.732940107000104\n"
          ]
        }
      ]
    },
    {
      "cell_type": "code",
      "metadata": {
        "id": "MS5p-3IFNaGv"
      },
      "source": [
        "getsequencefunc"
      ],
      "execution_count": null,
      "outputs": []
    },
    {
      "cell_type": "code",
      "metadata": {
        "colab": {
          "base_uri": "https://localhost:8080/"
        },
        "id": "l43AmlogI3fb",
        "outputId": "a3c3e4d3-25b6-4996-d148-ad22b0fbd9c8"
      },
      "source": [
        "my_numbers=list(map(int, input(\"Enter numbers: \").split()))\n",
        "my_numbers.sort()\n",
        "my_total=sum(range(my_numbers[0],my_numbers[-1]+1))+sum(range(my_numbers[1],my_numbers[-1]))\n",
        "my_total"
      ],
      "execution_count": null,
      "outputs": [
        {
          "name": "stdout",
          "output_type": "stream",
          "text": [
            "Enter numbers: -1 5 0\n"
          ]
        },
        {
          "output_type": "execute_result",
          "data": {
            "text/plain": [
              "24"
            ]
          },
          "metadata": {},
          "execution_count": 42
        }
      ]
    },
    {
      "cell_type": "code",
      "metadata": {
        "colab": {
          "base_uri": "https://localhost:8080/"
        },
        "id": "Yj31rUiyHy62",
        "outputId": "d52ddcec-6f77-43e3-c7a7-c8374bca0938"
      },
      "source": [
        "my_numbers=list([int(x) for x in input(\"Please enter the numbers: \").split()])\n",
        "my_numbers.sort()\n",
        "my_total=sum(range(my_numbers[0],my_numbers[-1]+1))+sum(range(my_numbers[1],my_numbers[-1]))\n",
        "my_total\n"
      ],
      "execution_count": null,
      "outputs": [
        {
          "name": "stdout",
          "output_type": "stream",
          "text": [
            "Please enter the numbers: -1 5 0\n"
          ]
        },
        {
          "output_type": "execute_result",
          "data": {
            "text/plain": [
              "24"
            ]
          },
          "metadata": {},
          "execution_count": 41
        }
      ]
    },
    {
      "cell_type": "code",
      "metadata": {
        "id": "O6r8s1qz9pLG"
      },
      "source": [
        "\n",
        "b=list([int(x) for x in input(\"Please enter the numbers: \").split()])\n",
        "\n",
        "phone={2: {'a','b','c'}, 3: {'d','e','f'}}\n",
        "list1=random.choice(list(phone[x] for x in b))\n",
        "\n",
        "while len(b)>1\n",
        "list2=\n",
        "\n"
      ],
      "execution_count": null,
      "outputs": []
    },
    {
      "cell_type": "code",
      "metadata": {
        "colab": {
          "base_uri": "https://localhost:8080/"
        },
        "id": "bItyPfvJPBgz",
        "outputId": "6742dba6-eded-4118-8785-d73a2b887e92"
      },
      "source": [
        "b= [int(x) for x in str(input(\"Enter numbers: \"))]\n",
        "b[0]"
      ],
      "execution_count": null,
      "outputs": [
        {
          "name": "stdout",
          "output_type": "stream",
          "text": [
            "Enter numbers: 236\n"
          ]
        },
        {
          "output_type": "execute_result",
          "data": {
            "text/plain": [
              "2"
            ]
          },
          "metadata": {},
          "execution_count": 66
        }
      ]
    },
    {
      "cell_type": "code",
      "metadata": {
        "colab": {
          "base_uri": "https://localhost:8080/"
        },
        "id": "GRWlBZBaOeTR",
        "outputId": "bbd4389c-e6e2-4097-b078-87ed9024dd98"
      },
      "source": [
        "b=list(map(int, input(\"Enter numbers: \").split()))\n",
        "b"
      ],
      "execution_count": null,
      "outputs": [
        {
          "name": "stdout",
          "output_type": "stream",
          "text": [
            "Enter numbers: 2 5 7\n"
          ]
        },
        {
          "output_type": "execute_result",
          "data": {
            "text/plain": [
              "[2, 5, 7]"
            ]
          },
          "metadata": {},
          "execution_count": 21
        }
      ]
    },
    {
      "cell_type": "code",
      "metadata": {
        "colab": {
          "base_uri": "https://localhost:8080/"
        },
        "id": "jL4gEbcxN30A",
        "outputId": "7a391fb3-d1d0-4729-affb-63dff52c507c"
      },
      "source": [
        "b=list([ input(\"Please enter the numbers: \").split()])\n",
        "b[0]"
      ],
      "execution_count": null,
      "outputs": [
        {
          "name": "stdout",
          "output_type": "stream",
          "text": [
            "Please enter the numbers: 236\n"
          ]
        },
        {
          "output_type": "execute_result",
          "data": {
            "text/plain": [
              "['236']"
            ]
          },
          "metadata": {},
          "execution_count": 63
        }
      ]
    },
    {
      "cell_type": "code",
      "metadata": {
        "colab": {
          "base_uri": "https://localhost:8080/"
        },
        "id": "TuYolcsHPO_T",
        "outputId": "0c206a9f-56f1-4aff-8b34-20f92cdea46f"
      },
      "source": [
        "b= [int(x) for x in str(input(\"Enter numbers: \"))]\n",
        "phone={2: {'a','b','c'}, 3: {'d','e','f'}}\n",
        "random.choice(list((phone[x] for x in b)))"
      ],
      "execution_count": null,
      "outputs": [
        {
          "name": "stdout",
          "output_type": "stream",
          "text": [
            "Enter numbers: 23\n"
          ]
        },
        {
          "output_type": "execute_result",
          "data": {
            "text/plain": [
              "{'d', 'e', 'f'}"
            ]
          },
          "metadata": {},
          "execution_count": 67
        }
      ]
    },
    {
      "cell_type": "code",
      "metadata": {
        "id": "vaQs8PeX9l28"
      },
      "source": [
        ""
      ],
      "execution_count": null,
      "outputs": []
    },
    {
      "cell_type": "code",
      "metadata": {
        "colab": {
          "base_uri": "https://localhost:8080/",
          "height": 130
        },
        "id": "rJ5H7joS4bIE",
        "outputId": "4a694443-6580-44f1-e276-0eb25311ccfd"
      },
      "source": [
        "\n",
        "#x=int(input('enter a number or numbers with coma '))\n",
        "b=list([int(x) for x in input(\"Please enter the numbers: \").split()])\n",
        "\n",
        "phone={2: {'a','b','c'}, 3: {'d','e','f'}}\n",
        "random.choice(list((phone[x] for x in b[0])+list(phone[x] for x in b[1]))))"
      ],
      "execution_count": null,
      "outputs": [
        {
          "output_type": "error",
          "ename": "SyntaxError",
          "evalue": "ignored",
          "traceback": [
            "\u001b[0;36m  File \u001b[0;32m\"<ipython-input-69-cd882b135be1>\"\u001b[0;36m, line \u001b[0;32m6\u001b[0m\n\u001b[0;31m    random.choice(list((phone[x] for x in b[0])+list(phone[x] for x in b[1]))))\u001b[0m\n\u001b[0m                                                                              ^\u001b[0m\n\u001b[0;31mSyntaxError\u001b[0m\u001b[0;31m:\u001b[0m invalid syntax\n"
          ]
        }
      ]
    },
    {
      "cell_type": "code",
      "metadata": {
        "colab": {
          "base_uri": "https://localhost:8080/",
          "height": 52
        },
        "id": "KkS8H7-LzH0e",
        "outputId": "3707475a-bc06-43e9-fb0b-1279a189dba9"
      },
      "source": [
        "b=int(input('enter a number or numbers with coma '))\n",
        "phone={2: {'a','b','c'}, 3: {'d','e','f'}}\n",
        "random.choice(list(phone[b]))"
      ],
      "execution_count": null,
      "outputs": [
        {
          "name": "stdout",
          "output_type": "stream",
          "text": [
            "enter a number or numbers with coma 2\n"
          ]
        },
        {
          "output_type": "execute_result",
          "data": {
            "application/vnd.google.colaboratory.intrinsic+json": {
              "type": "string"
            },
            "text/plain": [
              "'a'"
            ]
          },
          "metadata": {},
          "execution_count": 30
        }
      ]
    },
    {
      "cell_type": "code",
      "metadata": {
        "id": "X-YK5h70KzU5"
      },
      "source": [
        "union = set. union(set1, set2)"
      ],
      "execution_count": null,
      "outputs": []
    },
    {
      "cell_type": "code",
      "metadata": {
        "colab": {
          "base_uri": "https://localhost:8080/",
          "height": 35
        },
        "id": "RSJobThWw31t",
        "outputId": "8744911d-6bd7-4a33-cab5-2bd51b141055"
      },
      "source": [
        "my_dict = { 'A' : 2, 'B' : 2, 'C' : 2, 'D':3, 'E':3, 'F':3, 'G':4, 'H':4, 'I':4,}\n",
        "random.choice(list(my_dict))"
      ],
      "execution_count": null,
      "outputs": [
        {
          "output_type": "execute_result",
          "data": {
            "application/vnd.google.colaboratory.intrinsic+json": {
              "type": "string"
            },
            "text/plain": [
              "'C'"
            ]
          },
          "metadata": {},
          "execution_count": 12
        }
      ]
    },
    {
      "cell_type": "code",
      "metadata": {
        "colab": {
          "base_uri": "https://localhost:8080/",
          "height": 35
        },
        "id": "iDi6ey41JsnN",
        "outputId": "93f2e411-c285-4a4a-c7f3-547b19987349"
      },
      "source": [
        "length=2\n",
        "\n",
        "\n",
        "randomstr = ''.join(random.sample(string.ascii_letters+string.digits,length))\n",
        "randomstr"
      ],
      "execution_count": null,
      "outputs": [
        {
          "output_type": "execute_result",
          "data": {
            "application/vnd.google.colaboratory.intrinsic+json": {
              "type": "string"
            },
            "text/plain": [
              "'IV'"
            ]
          },
          "metadata": {},
          "execution_count": 45
        }
      ]
    },
    {
      "cell_type": "code",
      "metadata": {
        "id": "LR78h-bJJDl4"
      },
      "source": [
        "L = {'2':\"abc\",'3':\"def\",'4':\"ghi\",'5':\"jkl\",\n",
        "     '6':\"mno\",'7':\"pqrs\",'8':\"tuv\",'9':\"wxyz\"}\n",
        "\n",
        "class Solution:\n",
        "    def letterCombinations(self, D: str) :\n",
        "        lenD, ans = len(D), []\n",
        "        if D == \"\": return []\n",
        "        def bfs(pos: int, st: str):\n",
        "            if pos == lenD: ans.append(st)\n",
        "            else:\n",
        "                letters = L[D[pos]]\n",
        "                for letter in letters:\n",
        "                    bfs(pos+1,st+letter)\n",
        "        bfs(0,\"\")\n",
        "        return ans\n",
        "        print(letterCombinations(23) )"
      ],
      "execution_count": null,
      "outputs": []
    },
    {
      "cell_type": "code",
      "metadata": {
        "id": "XJSegs61-Y1F"
      },
      "source": [
        "import random\n",
        "\n",
        "def phone_letter(num):\n",
        "    \n",
        "    dictt = {2: 'abc', 3: 'def', 4: 'ghi', 5: 'jkl', 6: 'mno', 7: 'pqrs', 8: 'tuv', 9: 'wxyz'}\n",
        "    \n",
        "    times = 1\n",
        "    for i in range(len(str(num))):\n",
        "        times *= len(dictt[int(str(num)[i])])\n",
        "    \n",
        "    a = 0\n",
        "    result_list = []\n",
        "    while a < times:\n",
        "        liste = []\n",
        "        for i in range(len(str(num))):\n",
        "            random_chr = random.choice(dictt[int(str(num)[i])])\n",
        "            liste.append(random_chr)\n",
        "        if liste not in result_list:\n",
        "            result_list.insert(len(result_list), liste)\n",
        "            a += 1\n",
        "    result_list = [''.join(i) for i in result_list]\n",
        "    result_list.sort()\n",
        "    return result_list\n",
        "\n",
        "phone_letter(6425)"
      ],
      "execution_count": null,
      "outputs": []
    },
    {
      "cell_type": "code",
      "metadata": {
        "id": "2FIkl4MXqLdC"
      },
      "source": [
        "\n",
        "# try block to handle the exception\n",
        "try:\n",
        "    my_list = []\n",
        "     \n",
        "    while True:\n",
        "        my_list.append(int(input()))\n",
        "         \n",
        "# if the input is not-integer, just print the list\n",
        "except:\n",
        "    print(my_list)"
      ],
      "execution_count": null,
      "outputs": []
    },
    {
      "cell_type": "markdown",
      "source": [
        "This problem was asked by LinkedIn.\n",
        "Given a list of points, a central point, and an integer k, find the nearest k points from the central point.\n",
        "For example, given the list of points [(0, 0), (5, 4), (3, 1)], the central point (1, 2), and k = 2, return[(0, 0), (3, 1)]."
      ],
      "metadata": {
        "id": "YD5BdLIP9uQQ"
      }
    },
    {
      "cell_type": "code",
      "source": [
        "def nearest_points(lst, c, k):\n",
        "    \n",
        "    res = []\n",
        "    for i in lst:\n",
        "        y = (((i[0] - c[0]) ** 2) + ((i[1] - c[1]) ** 2)) ** 0.5\n",
        "        res.append([y, i])\n",
        "    \n",
        "    return [v for k,v in sorted(res)[:k]]\n",
        "\n",
        "nearest_points([(0.25, 1), (5, 4), (3, 5),(-0.25,-1)], (1, 2), 1)"
      ],
      "metadata": {
        "colab": {
          "base_uri": "https://localhost:8080/"
        },
        "id": "9R9l46m09vO5",
        "outputId": "97ad7c40-d9eb-4c6b-e7f3-c289a6738612"
      },
      "execution_count": null,
      "outputs": [
        {
          "output_type": "execute_result",
          "data": {
            "text/plain": [
              "[(0.25, 1)]"
            ]
          },
          "metadata": {},
          "execution_count": 12
        }
      ]
    },
    {
      "cell_type": "code",
      "source": [
        "lst = {\n",
        "    \"key\": 3,\n",
        "    \"car\": 10,\n",
        "    \"foo\": {\n",
        "        \"ahaa\": 5,\n",
        "        \"dad\": 12,\n",
        "        \"bar\": {\n",
        "            \"baz\": 8,\n",
        "            \"mom\": {\n",
        "                \"come\": 23,\n",
        "                \"gooo\": {\n",
        "                    \"cool\": 12\n",
        "                },\n",
        "                \"noo\": 15,\n",
        "                'gel': 17\n",
        "                \n",
        "            },\n",
        "            \"sooo\": 19,\n",
        "            \"aloo\": 21\n",
        "        },\n",
        "        \"neee\":90,\n",
        "        \"kaac\":89\n",
        "    },\n",
        "    \"kaaa\":45,\n",
        "    \"caa\":55,\n",
        "    \"yaa\":100\n",
        "}\n",
        "\n",
        "\n",
        "def flatten(lst):\n",
        "    \n",
        "    k = str(lst)\n",
        "    res, resa, dictt = '', [], {}\n",
        "    op = False\n",
        "    for i in range(1, len(k)):\n",
        "        if k[i].isalnum() or k[i] == ':':\n",
        "            res += k[i]\n",
        "        elif k[i] == ',':\n",
        "            if op:\n",
        "                if k[i-1] != '}':\n",
        "                    resa.append(res)\n",
        "                    res = y\n",
        "                else:\n",
        "                    if res != '':\n",
        "                        res += '.'\n",
        "            else:\n",
        "                resa.append(res)\n",
        "                res = ''\n",
        "        elif k[i] == '{':\n",
        "            op = True\n",
        "            y = res.strip(':') + '.'\n",
        "            res = y\n",
        "        elif k[i] == '}' and i != len(k) - 1 :\n",
        "            if k[i+1] != ',':\n",
        "                op = False\n",
        "                if res not in resa:\n",
        "                    resa.append(res)\n",
        "            else:\n",
        "                resa.append(res)\n",
        "                res = '.'.join(res.split('.')[:-2])\n",
        "                y = res + '.'\n",
        "        elif i == len(k) - 1 and res != '':\n",
        "            resa.append(res)\n",
        "    \n",
        "    summ = ''\n",
        "    for i in resa:\n",
        "        lst2 = i.lstrip('.').split(':')\n",
        "        dictt[lst2[0]] = int(lst2[1])\n",
        "\n",
        "    return dictt\n",
        "            \n",
        "flatten(lst)"
      ],
      "metadata": {
        "colab": {
          "base_uri": "https://localhost:8080/"
        },
        "id": "IBEJlHbjGnuX",
        "outputId": "eb5ed5d5-89a7-46fe-b7d4-8a3e1a31a885"
      },
      "execution_count": null,
      "outputs": [
        {
          "output_type": "execute_result",
          "data": {
            "text/plain": [
              "{'caa': 55,\n",
              " 'car': 10,\n",
              " 'foo.ahaa': 5,\n",
              " 'foo.bar.aloo': 21,\n",
              " 'foo.bar.baz': 8,\n",
              " 'foo.bar.mom.come': 23,\n",
              " 'foo.bar.mom.gel': 17,\n",
              " 'foo.bar.mom.gooo.cool': 12,\n",
              " 'foo.bar.mom.noo': 15,\n",
              " 'foo.bar.sooo': 19,\n",
              " 'foo.dad': 12,\n",
              " 'foo.kaac': 89,\n",
              " 'foo.neee': 90,\n",
              " 'kaaa': 45,\n",
              " 'key': 3,\n",
              " 'yaa': 100}"
            ]
          },
          "metadata": {},
          "execution_count": 1
        }
      ]
    },
    {
      "cell_type": "code",
      "source": [
        "import pandas as pd\n",
        "\n",
        "d = {'a': 1,\n",
        "     'c': {'a': 2, 'b': {'x': 5, 'y' : 10}},\n",
        "     'd': [1, 2, 3]}\n",
        "\n",
        "df = pd.json_normalize(d, sep='_')\n",
        "\n",
        "print(df.to_dict(orient='records')[0])"
      ],
      "metadata": {
        "id": "auiwcyzcGnaP"
      },
      "execution_count": null,
      "outputs": []
    },
    {
      "cell_type": "code",
      "source": [
        "import pandas as pd\n",
        "\n",
        "a = {\"key\": 3,\n",
        "    \"foo\": { \"a\": 5, \"bar\": {\"baz\": 8}},\n",
        "    'c': {'a': 2, 'b': {'x': 6, 'y' : 10}} }\n",
        "\n",
        "df = pd.json_normalize(a, sep='_')\n",
        "\n",
        "print(df.to_dict(orient='records')[0])"
      ],
      "metadata": {
        "colab": {
          "base_uri": "https://localhost:8080/"
        },
        "id": "M7yE4jBqG9RG",
        "outputId": "efe5f03f-33b7-4bbc-f0bb-d17558c6582c"
      },
      "execution_count": null,
      "outputs": [
        {
          "output_type": "stream",
          "name": "stdout",
          "text": [
            "{'key': 3, 'foo_a': 5, 'foo_bar_baz': 8, 'c_a': 2, 'c_b_x': 6, 'c_b_y': 10}\n"
          ]
        }
      ]
    }
  ]
}